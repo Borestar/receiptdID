{
 "cells": [
  {
   "cell_type": "markdown",
   "metadata": {},
   "source": [
    "## Receipt.ID \n",
    "### Item Category Hierachy Classification\n",
    "Taxonomic classification, categorize items according to a pre-defined taxonomy. The goal is to assign one or more categories in the taxonomy to an item. It is a multi-class **and** multi-label classification problem with hierarchical relationships between each node in the tree."
   ]
  },
  {
   "cell_type": "markdown",
   "metadata": {},
   "source": [
    "#### Items\n",
    "- Items come from a wide range for categories like Produce, Meat, Beverage, Supplies. \n",
    "- Example item to category mapping:\n",
    "\n",
    "\n",
    "|item|mapping|\n",
    "|---|---|\n",
    "|Kale  | \"Food/Produce/Kale\"  |\n",
    "|Vinegar white wine 50 grain  | \"Food/Dry-Grocery/Vinegars/White Wine Vinegar\"  |\n",
    "|Imported nat flank steak  | \"Food/Meats/Beef/Flank Steak\"  |\n",
    "\n",
    "\n",
    "To solve this problem, I will undertake the following course of action:\n",
    "1. Explore the dataset\n",
    "    - Explore the dataset to ensure its integrity and understand the context. \n",
    "2. Identify features that may be used. \n",
    "    - If possible, engineer features that might provide greater discrimination.\n",
    "3. Build k independent *text-based* classifiers for the text-based features and feed the output from these classifiers into the next layer classifier which takes in the other features. Explore a couple of classifiers that might be well suited for the problem at hand.\n",
    "    - Decision Trees\n",
    "    - SVM\n",
    "    - AdaBoost\n",
    "4.  Select appropriate classifier based on evaluation metric and tune it for optimality.\n",
    "\n",
    "In this notebook I do data pre-processing.\n",
    "\n"
   ]
  },
  {
   "cell_type": "markdown",
   "metadata": {},
   "source": [
    "## Preliminaries"
   ]
  },
  {
   "cell_type": "code",
   "execution_count": 1,
   "metadata": {
    "collapsed": false
   },
   "outputs": [
    {
     "name": "stdout",
     "output_type": "stream",
     "text": [
      "Populating the interactive namespace from numpy and matplotlib\n"
     ]
    }
   ],
   "source": [
    "%pylab inline"
   ]
  },
  {
   "cell_type": "code",
   "execution_count": 2,
   "metadata": {
    "collapsed": false
   },
   "outputs": [],
   "source": [
    "# Import libraries\n",
    "from __future__ import absolute_import, division, print_function\n",
    "\n",
    "import sys\n",
    "sys.path.append('tools/')\n",
    "\n",
    "import numpy as np\n",
    "import pandas as pd\n",
    "import pickle\n",
    "from pivottablejs import pivot_ui\n",
    "   \n",
    "# Graphing Libraries\n",
    "import qgrid\n",
    "import matplotlib.pyplot as pyplt\n",
    "import seaborn as sns\n",
    "sns.set();\n",
    "sns.set_style(\"white\")\n",
    "qgrid.nbinstall(overwrite=True)"
   ]
  },
  {
   "cell_type": "markdown",
   "metadata": {},
   "source": [
    "## Transform Data from TSV"
   ]
  },
  {
   "cell_type": "code",
   "execution_count": null,
   "metadata": {
    "collapsed": false
   },
   "outputs": [],
   "source": [
    "! python tools/data_conversion.py 'data/item-categorization-training2.tsv' 'data/data_training.dat'\n",
    "! python tools/data_conversion.py 'data/item-categorization-validation.tsv' 'data/data_validation.dat'\n",
    "! python tools/data_conversion.py 'data/item-categorization-test.tsv' 'data/data_test.dat'"
   ]
  },
  {
   "cell_type": "code",
   "execution_count": null,
   "metadata": {
    "collapsed": true
   },
   "outputs": [],
   "source": [
    "df_ = pd.read_pickle('data/data_training.dat')"
   ]
  },
  {
   "cell_type": "markdown",
   "metadata": {},
   "source": [
    "## Data Preprocessing\n",
    "\n",
    "- Break out category into individual categories\n",
    "    - level_id_1\n",
    "    - .\n",
    "    - level_id_7\n",
    "- Break out mapped category into individual categories\n",
    "    - mapped_level_1\n",
    "    - .\n",
    "    - mapped_level_7"
   ]
  },
  {
   "cell_type": "code",
   "execution_count": null,
   "metadata": {
    "collapsed": false
   },
   "outputs": [],
   "source": [
    "! python tools/make_categories.py 'data/data_training.dat' 'data/data_training_expanded.dat'\n",
    "! python tools/make_categories.py 'data/data_validation.dat' 'data/data_validation_expanded.dat'\n",
    "! python tools/make_categories.py 'data/data_test.dat' 'data/data_test_expanded.dat'"
   ]
  },
  {
   "cell_type": "markdown",
   "metadata": {},
   "source": [
    "## Load Data"
   ]
  },
  {
   "cell_type": "code",
   "execution_count": 3,
   "metadata": {
    "collapsed": false
   },
   "outputs": [],
   "source": [
    "df_1 = pd.read_pickle('data/data_training_expanded.dat')\n",
    "df_2 = pd.read_pickle('data/data_validation_expanded.dat')\n",
    "df_3 = pd.read_pickle('data/data_test_expanded.dat')"
   ]
  },
  {
   "cell_type": "markdown",
   "metadata": {},
   "source": [
    "### Append the dataframes along rows"
   ]
  },
  {
   "cell_type": "code",
   "execution_count": 4,
   "metadata": {
    "collapsed": false
   },
   "outputs": [
    {
     "name": "stdout",
     "output_type": "stream",
     "text": [
      "158956 records appended together\n"
     ]
    }
   ],
   "source": [
    "data = df_1\n",
    "data = data.append(df_2, ignore_index=True)\n",
    "data = data.append(df_3, ignore_index=True)\n",
    "    \n",
    "print(\"{0} records appended together\".format(len(data)))    "
   ]
  },
  {
   "cell_type": "markdown",
   "metadata": {},
   "source": [
    "### How many categories in the dataset?"
   ]
  },
  {
   "cell_type": "code",
   "execution_count": 5,
   "metadata": {
    "collapsed": true
   },
   "outputs": [],
   "source": [
    "def find_category(list_of_records):\n",
    "    lst = []\n",
    "    for r in list_of_records:\n",
    "        lst.append(r)\n",
    "    return lst"
   ]
  },
  {
   "cell_type": "code",
   "execution_count": 6,
   "metadata": {
    "collapsed": true
   },
   "outputs": [],
   "source": [
    "flatten = lambda l: [item for sublist in l for item in sublist]"
   ]
  },
  {
   "cell_type": "code",
   "execution_count": 7,
   "metadata": {
    "collapsed": false
   },
   "outputs": [
    {
     "data": {
      "text/plain": [
       "2607"
      ]
     },
     "execution_count": 7,
     "metadata": {},
     "output_type": "execute_result"
    }
   ],
   "source": [
    "lst = []\n",
    "for category in data.category:\n",
    "    lst.append(find_category(category))\n",
    "    \n",
    "len(set(flatten(lst)))"
   ]
  },
  {
   "cell_type": "markdown",
   "metadata": {},
   "source": [
    "### Engineered Features: *`branch_lenght`*\n",
    "- The length of each branch of the tree"
   ]
  },
  {
   "cell_type": "code",
   "execution_count": 8,
   "metadata": {
    "collapsed": false
   },
   "outputs": [],
   "source": [
    "y = data.category.map(lambda x: len(x)) \n",
    "data['branch_lenght'] = y"
   ]
  },
  {
   "cell_type": "code",
   "execution_count": 9,
   "metadata": {
    "collapsed": true
   },
   "outputs": [],
   "source": [
    "col_name = [\n",
    "          u'item_id', u'item_name', u'vendor_id', 'branch_lenght',\n",
    "       u'mapped_level_0', u'mapped_level_1', u'mapped_level_2',\n",
    "       u'mapped_level_3', u'mapped_level_4', u'mapped_level_5', u'mapped_level_6']"
   ]
  },
  {
   "cell_type": "markdown",
   "metadata": {},
   "source": [
    "### Engineered Features: *`Item_name_match`*\n",
    "- Do any word correspond to a thing in the list\n",
    "    - dried sundried cranberry -> [Food, Produce, Fruits, Cranberries]\n",
    "    - mushroom portabella -> \t[Food, Produce, Mushrooms]\n",
    "    \n",
    "Words in `item_name` appears in the tree branch where it belongs.\n",
    "- Weight occurence by the frequency in the branch"
   ]
  },
  {
   "cell_type": "code",
   "execution_count": 10,
   "metadata": {
    "collapsed": false
   },
   "outputs": [],
   "source": [
    "df_ = data[['item_name', u'mapped_level_0',\n",
    "       u'mapped_level_1', u'mapped_level_2', u'mapped_level_3',\n",
    "       u'mapped_level_4', u'mapped_level_5']]"
   ]
  },
  {
   "cell_type": "code",
   "execution_count": 11,
   "metadata": {
    "collapsed": false
   },
   "outputs": [],
   "source": [
    "df_.to_pickle('data/df_data.dat')"
   ]
  },
  {
   "cell_type": "markdown",
   "metadata": {},
   "source": [
    "### Run the data transformation "
   ]
  },
  {
   "cell_type": "code",
   "execution_count": 12,
   "metadata": {
    "collapsed": false
   },
   "outputs": [
    {
     "name": "stdout",
     "output_type": "stream",
     "text": [
      "Reading in file: data/df_data.dat\n",
      "\n",
      "Read in 158956 records\n",
      "Generate item name match score\n",
      "Write file out to disk\n"
     ]
    }
   ],
   "source": [
    "! python tools/data_item_name_match.py 'data/df_data.dat' 'data/df_data_expanded.dat'"
   ]
  },
  {
   "cell_type": "code",
   "execution_count": 13,
   "metadata": {
    "collapsed": false
   },
   "outputs": [],
   "source": [
    "df_ = pd.read_pickle('data/df_data_expanded.dat')"
   ]
  },
  {
   "cell_type": "code",
   "execution_count": 14,
   "metadata": {
    "collapsed": false
   },
   "outputs": [],
   "source": [
    "## update the data table\n",
    "\n",
    "data['item_name_match'] = df_['item_name_match']"
   ]
  },
  {
   "cell_type": "markdown",
   "metadata": {
    "collapsed": true
   },
   "source": [
    "### Write data out"
   ]
  },
  {
   "cell_type": "code",
   "execution_count": 15,
   "metadata": {
    "collapsed": true
   },
   "outputs": [],
   "source": [
    "data.to_pickle('data/data_expanded.dat')"
   ]
  },
  {
   "cell_type": "markdown",
   "metadata": {
    "collapsed": true
   },
   "source": [
    "## Process item labels"
   ]
  },
  {
   "cell_type": "code",
   "execution_count": 8,
   "metadata": {
    "collapsed": true
   },
   "outputs": [],
   "source": [
    "from nltk.tokenize import RegexpTokenizer\n",
    "from nltk.corpus import stopwords\n",
    "from nltk.stem.snowball import SnowballStemmer\n",
    "\n",
    "def preprocess_label_names(text_df):\n",
    "    \"\"\"\n",
    "    Simple preprocessing pipeline which uses RegExp, sets basic token requirements, and removes stop words.\n",
    "    \"\"\"\n",
    "\n",
    "    # extend stop words to capture modifiers like gluten\n",
    "    stopwords_ = set(stopwords.words('english'))\n",
    "    stopwords_.add('organic')\n",
    "    stopwords_.add('gluten')\n",
    "    stopwords_.add('free')\n",
    "    stopwords_.add('pesticide')\n",
    "    \n",
    "    # tokenizer, stops, and stemmer\n",
    "    tokenizer = RegexpTokenizer(r'\\w+')\n",
    "    stop_words = stopwords_\n",
    "    stemmer = SnowballStemmer('english')\n",
    "\n",
    "    # process articles\n",
    "    label_list = []\n",
    "    for article in text_df:\n",
    "        cleaned_tokens = []\n",
    "        tokens = tokenizer.tokenize(article.lower())\n",
    "        for token in tokens:\n",
    "            if token not in stop_words:\n",
    "                if len(token) > 0 and len(token) < 20: # removes non words\n",
    "                    if not token[0].isdigit() and not token[-1].isdigit(): # removes numbers\n",
    "                        stemmed_tokens = stemmer.stem(token)\n",
    "                        cleaned_tokens.append(stemmed_tokens)\n",
    "        # add process article\n",
    "        label_list.append(cleaned_tokens)\n",
    "\n",
    "    # echo results and return\n",
    "    print ('preprocessed content for %d records' % len(label_list))\n",
    "    return label_list\n"
   ]
  },
  {
   "cell_type": "code",
   "execution_count": null,
   "metadata": {
    "collapsed": false
   },
   "outputs": [],
   "source": [
    "## Only use item labels as input \n",
    "\n",
    "df = pd.read_pickle('data/data_expanded.dat')\n",
    "text_features = df[[ u'item_name']]\n",
    "text_features = text_features.fillna('')\n",
    "text_features_data = text_features.apply(lambda x: ' '.join(x), axis=1)\n",
    "\n",
    "# process articles\n",
    "print (\"Tokenizing, stemming and removing stop words ...\")\n",
    "\n",
    "processed_features_list = preprocess_label_names(text_features_data)\n",
    "df['item_labels'] = processed_features_list\n",
    "df.to_pickle('data/data_expanded.dat')"
   ]
  },
  {
   "cell_type": "code",
   "execution_count": 17,
   "metadata": {
    "collapsed": false
   },
   "outputs": [],
   "source": [
    "## update the data table\n",
    "\n",
    "df['item_name_match'] = df_['item_name_match']"
   ]
  },
  {
   "cell_type": "markdown",
   "metadata": {
    "collapsed": true
   },
   "source": [
    "#### Write data out"
   ]
  },
  {
   "cell_type": "code",
   "execution_count": 19,
   "metadata": {
    "collapsed": false
   },
   "outputs": [],
   "source": [
    "df.to_pickle('data/data_test_expanded.dat')"
   ]
  },
  {
   "cell_type": "code",
   "execution_count": null,
   "metadata": {
    "collapsed": true
   },
   "outputs": [],
   "source": []
  }
 ],
 "metadata": {
  "anaconda-cloud": {},
  "kernelspec": {
   "display_name": "Python [conda root]",
   "language": "python",
   "name": "conda-root-py"
  },
  "language_info": {
   "codemirror_mode": {
    "name": "ipython",
    "version": 2
   },
   "file_extension": ".py",
   "mimetype": "text/x-python",
   "name": "python",
   "nbconvert_exporter": "python",
   "pygments_lexer": "ipython2",
   "version": "2.7.13"
  }
 },
 "nbformat": 4,
 "nbformat_minor": 2
}
